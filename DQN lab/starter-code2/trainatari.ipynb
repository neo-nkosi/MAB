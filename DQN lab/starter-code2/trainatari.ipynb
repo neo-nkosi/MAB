{
 "cells": [
  {
   "cell_type": "code",
   "execution_count": 6,
   "metadata": {},
   "outputs": [
    {
     "name": "stdout",
     "output_type": "stream",
     "text": [
      "Episode 1 - Total Reward: -19.0 - Epsilon: 0.995\n",
      "Episode 2 - Total Reward: -20.0 - Epsilon: 0.990\n"
     ]
    }
   ],
   "source": [
    "# train_atari.py\n",
    "\n",
    "import gymnasium as gym\n",
    "import numpy as np\n",
    "import torch\n",
    "import matplotlib.pyplot as plt\n",
    "\n",
    "from dqn.agent import DQNAgent\n",
    "from dqn.replay_buffer import ReplayBuffer\n",
    "from dqn.wrappers import make_atari, wrap_deepmind\n",
    "\n",
    "env_name = 'PongNoFrameskip-v4'\n",
    "\n",
    "# Create the Atari environment with the appropriate wrappers\n",
    "env = make_atari(env_name)\n",
    "env = wrap_deepmind(env, frame_stack=True, scale=False)  # Set scale=False since we're normalizing in the agent\n",
    "\n",
    "# Initialize the replay buffer\n",
    "replay_buffer = ReplayBuffer(size=100000)\n",
    "\n",
    "# Initialize the DQN agent\n",
    "agent = DQNAgent(\n",
    "    observation_space=env.observation_space,\n",
    "    action_space=env.action_space,\n",
    "    replay_buffer=replay_buffer,\n",
    "    use_double_dqn=True,\n",
    "    lr=1e-4,\n",
    "    batch_size=32,\n",
    "    gamma=0.99\n",
    ")\n",
    "\n",
    "# Training parameters\n",
    "num_episodes = 100\n",
    "target_update_interval = 10  # Update target network every 10 episodes\n",
    "epsilon = 1.0\n",
    "epsilon_decay = 0.995\n",
    "epsilon_min = 0.1\n",
    "rewards = []\n",
    "losses = []\n",
    "\n",
    "for episode in range(1, num_episodes + 1):\n",
    "    state, info = env.reset()\n",
    "    total_reward = 0\n",
    "    t = 0\n",
    "\n",
    "    while True:\n",
    "        t += 1\n",
    "\n",
    "        # Epsilon-greedy action selection\n",
    "        if np.random.rand() < epsilon:\n",
    "            action = env.action_space.sample()\n",
    "        else:\n",
    "            action = agent.act(state)\n",
    "\n",
    "        # Take a step in the environment\n",
    "        next_state, reward, terminated, truncated, _ = env.step(action)\n",
    "        done = terminated or truncated\n",
    "\n",
    "        # Add experience to replay buffer\n",
    "        agent.replay_buffer.add(state, action, reward, next_state, float(done))\n",
    "\n",
    "        # Optimize the model\n",
    "        loss = agent.optimise_td_loss()\n",
    "        if loss is not None:\n",
    "            losses.append(loss)\n",
    "\n",
    "        state = next_state\n",
    "        total_reward += reward\n",
    "\n",
    "        if done:\n",
    "            break\n",
    "\n",
    "    # Decay epsilon after each episode\n",
    "    epsilon = max(epsilon_min, epsilon * epsilon_decay)\n",
    "    rewards.append(total_reward)\n",
    "\n",
    "    # Update the target network at specified intervals\n",
    "    if episode % target_update_interval == 0:\n",
    "        agent.update_target_network()\n",
    "\n",
    "    print(f\"Episode {episode} - Total Reward: {total_reward} - Epsilon: {epsilon:.3f}\")\n",
    "\n",
    "# Plotting the reward curve\n",
    "plt.figure(figsize=(10, 5))\n",
    "plt.plot(rewards)\n",
    "plt.title(\"Training Reward Curve\")\n",
    "plt.xlabel(\"Episode\")\n",
    "plt.ylabel(\"Total Reward\")\n",
    "plt.show()\n",
    "\n",
    "# Plotting the loss curve\n",
    "plt.figure(figsize=(10, 5))\n",
    "plt.plot(losses)\n",
    "plt.title(\"Training Loss Curve\")\n",
    "plt.xlabel(\"Training Steps\")\n",
    "plt.ylabel(\"Loss\")\n",
    "plt.show()\n",
    "\n",
    "# Save the trained model\n",
    "torch.save(agent.policy_network.state_dict(), \"dqn_pong_model.pth\")\n"
   ]
  },
  {
   "cell_type": "code",
   "execution_count": 4,
   "metadata": {},
   "outputs": [],
   "source": [
    "from dqn.wrappers import make_atari, wrap_deepmind\n",
    "env_name = 'PongNoFrameskip-v4'\n",
    "\n",
    "# Create the Atari environment with the appropriate wrappers\n",
    "env = make_atari(env_name)\n",
    "env = wrap_deepmind(env, frame_stack=True, scale=False)"
   ]
  },
  {
   "cell_type": "code",
   "execution_count": 2,
   "metadata": {},
   "outputs": [
    {
     "name": "stdout",
     "output_type": "stream",
     "text": [
      "Observation Space: Box(0, 255, (4, 84, 84), uint8)\n",
      "Type: <class 'gymnasium.spaces.box.Box'>\n"
     ]
    }
   ],
   "source": [
    "print(\"Observation Space:\", env.observation_space)\n",
    "print(\"Type:\", type(env.observation_space))"
   ]
  },
  {
   "cell_type": "code",
   "execution_count": 4,
   "metadata": {},
   "outputs": [
    {
     "data": {
      "text/plain": [
       "device(type='cuda')"
      ]
     },
     "execution_count": 4,
     "metadata": {},
     "output_type": "execute_result"
    }
   ],
   "source": [
    "import torch\n",
    "device = torch.device('cuda' if torch.cuda.is_available() else 'cpu')\n",
    "\n",
    "device"
   ]
  }
 ],
 "metadata": {
  "kernelspec": {
   "display_name": "ACML",
   "language": "python",
   "name": "python3"
  },
  "language_info": {
   "codemirror_mode": {
    "name": "ipython",
    "version": 3
   },
   "file_extension": ".py",
   "mimetype": "text/x-python",
   "name": "python",
   "nbconvert_exporter": "python",
   "pygments_lexer": "ipython3",
   "version": "3.11.9"
  }
 },
 "nbformat": 4,
 "nbformat_minor": 2
}
